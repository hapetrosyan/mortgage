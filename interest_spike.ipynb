{
 "metadata": {
  "language_info": {
   "codemirror_mode": {
    "name": "ipython",
    "version": 3
   },
   "file_extension": ".py",
   "mimetype": "text/x-python",
   "name": "python",
   "nbconvert_exporter": "python",
   "pygments_lexer": "ipython3",
   "version": "3.8.3-final"
  },
  "orig_nbformat": 2,
  "kernelspec": {
   "name": "python38332bit8b07637a70ff4edea6aa6bcbd1fc18e9",
   "display_name": "Python 3.8.3 32-bit",
   "language": "python"
  }
 },
 "nbformat": 4,
 "nbformat_minor": 2,
 "cells": [
  {
   "cell_type": "code",
   "execution_count": 1,
   "metadata": {},
   "outputs": [],
   "source": [
    "import funcs as f"
   ]
  },
  {
   "cell_type": "code",
   "execution_count": 39,
   "metadata": {},
   "outputs": [],
   "source": [
    "schedule1, stats1, total_monthly1 = f.amortization_table(\n",
    "    interest_rate = 1.69, \n",
    "    years = 30, \n",
    "    principal= 850000-210000, \n",
    "    yearly_tax= 3846, \n",
    "    maintenance_fee=0, \n",
    "    addl_principal=0)"
   ]
  },
  {
   "cell_type": "code",
   "execution_count": 40,
   "metadata": {},
   "outputs": [],
   "source": [
    "schedule2, stats2, total_monthly2 = f.amortization_table(\n",
    "    interest_rate = 4, \n",
    "    years = 25, \n",
    "    principal = schedule1.loc[60, 'Curr_Balance'], \n",
    "    yearly_tax= 3846, \n",
    "    maintenance_fee=0, \n",
    "    addl_principal=0)"
   ]
  },
  {
   "cell_type": "code",
   "execution_count": 41,
   "metadata": {},
   "outputs": [
    {
     "output_type": "execute_result",
     "data": {
      "text/plain": [
       "(-2588.09, -3247.48)"
      ]
     },
     "metadata": {},
     "execution_count": 41
    }
   ],
   "source": [
    "total_monthly1, total_monthly2"
   ]
  },
  {
   "cell_type": "code",
   "execution_count": 42,
   "metadata": {},
   "outputs": [
    {
     "output_type": "execute_result",
     "data": {
      "text/plain": [
       "       Payment_Date  Payment  Principal  Interest  Addl_Principal  \\\n",
       "Period                                                              \n",
       "1        2021-04-01 -2267.59   -1366.26   -901.33               0   \n",
       "2        2021-05-01 -2267.59   -1368.18   -899.41               0   \n",
       "3        2021-06-01 -2267.59   -1370.11   -897.48               0   \n",
       "4        2021-07-01 -2267.59   -1372.04   -895.55               0   \n",
       "5        2021-08-01 -2267.59   -1373.97   -893.62               0   \n",
       "...             ...      ...        ...       ...             ...   \n",
       "60       2026-03-01 -2267.59   -1484.54   -783.05               0   \n",
       "61       2026-04-01 -2267.59   -1486.63   -780.96               0   \n",
       "62       2026-05-01 -2267.59   -1488.73   -778.86               0   \n",
       "63       2026-06-01 -2267.59   -1490.82   -776.76               0   \n",
       "64       2026-07-01 -2267.59   -1492.92   -774.67               0   \n",
       "\n",
       "        Curr_Balance  Cumulative_Principal  \n",
       "Period                                      \n",
       "1          638633.74              -1366.26  \n",
       "2          637265.56              -2734.44  \n",
       "3          635895.45              -4104.55  \n",
       "4          634523.41              -5476.59  \n",
       "5          633149.44              -6850.56  \n",
       "...              ...                   ...  \n",
       "60         554524.33             -85475.67  \n",
       "61         553037.70             -86962.30  \n",
       "62         551548.97             -88451.03  \n",
       "63         550058.15             -89941.85  \n",
       "64         548565.23             -91434.77  \n",
       "\n",
       "[64 rows x 7 columns]"
      ],
      "text/html": "<div>\n<style scoped>\n    .dataframe tbody tr th:only-of-type {\n        vertical-align: middle;\n    }\n\n    .dataframe tbody tr th {\n        vertical-align: top;\n    }\n\n    .dataframe thead th {\n        text-align: right;\n    }\n</style>\n<table border=\"1\" class=\"dataframe\">\n  <thead>\n    <tr style=\"text-align: right;\">\n      <th></th>\n      <th>Payment_Date</th>\n      <th>Payment</th>\n      <th>Principal</th>\n      <th>Interest</th>\n      <th>Addl_Principal</th>\n      <th>Curr_Balance</th>\n      <th>Cumulative_Principal</th>\n    </tr>\n    <tr>\n      <th>Period</th>\n      <th></th>\n      <th></th>\n      <th></th>\n      <th></th>\n      <th></th>\n      <th></th>\n      <th></th>\n    </tr>\n  </thead>\n  <tbody>\n    <tr>\n      <th>1</th>\n      <td>2021-04-01</td>\n      <td>-2267.59</td>\n      <td>-1366.26</td>\n      <td>-901.33</td>\n      <td>0</td>\n      <td>638633.74</td>\n      <td>-1366.26</td>\n    </tr>\n    <tr>\n      <th>2</th>\n      <td>2021-05-01</td>\n      <td>-2267.59</td>\n      <td>-1368.18</td>\n      <td>-899.41</td>\n      <td>0</td>\n      <td>637265.56</td>\n      <td>-2734.44</td>\n    </tr>\n    <tr>\n      <th>3</th>\n      <td>2021-06-01</td>\n      <td>-2267.59</td>\n      <td>-1370.11</td>\n      <td>-897.48</td>\n      <td>0</td>\n      <td>635895.45</td>\n      <td>-4104.55</td>\n    </tr>\n    <tr>\n      <th>4</th>\n      <td>2021-07-01</td>\n      <td>-2267.59</td>\n      <td>-1372.04</td>\n      <td>-895.55</td>\n      <td>0</td>\n      <td>634523.41</td>\n      <td>-5476.59</td>\n    </tr>\n    <tr>\n      <th>5</th>\n      <td>2021-08-01</td>\n      <td>-2267.59</td>\n      <td>-1373.97</td>\n      <td>-893.62</td>\n      <td>0</td>\n      <td>633149.44</td>\n      <td>-6850.56</td>\n    </tr>\n    <tr>\n      <th>...</th>\n      <td>...</td>\n      <td>...</td>\n      <td>...</td>\n      <td>...</td>\n      <td>...</td>\n      <td>...</td>\n      <td>...</td>\n    </tr>\n    <tr>\n      <th>60</th>\n      <td>2026-03-01</td>\n      <td>-2267.59</td>\n      <td>-1484.54</td>\n      <td>-783.05</td>\n      <td>0</td>\n      <td>554524.33</td>\n      <td>-85475.67</td>\n    </tr>\n    <tr>\n      <th>61</th>\n      <td>2026-04-01</td>\n      <td>-2267.59</td>\n      <td>-1486.63</td>\n      <td>-780.96</td>\n      <td>0</td>\n      <td>553037.70</td>\n      <td>-86962.30</td>\n    </tr>\n    <tr>\n      <th>62</th>\n      <td>2026-05-01</td>\n      <td>-2267.59</td>\n      <td>-1488.73</td>\n      <td>-778.86</td>\n      <td>0</td>\n      <td>551548.97</td>\n      <td>-88451.03</td>\n    </tr>\n    <tr>\n      <th>63</th>\n      <td>2026-06-01</td>\n      <td>-2267.59</td>\n      <td>-1490.82</td>\n      <td>-776.76</td>\n      <td>0</td>\n      <td>550058.15</td>\n      <td>-89941.85</td>\n    </tr>\n    <tr>\n      <th>64</th>\n      <td>2026-07-01</td>\n      <td>-2267.59</td>\n      <td>-1492.92</td>\n      <td>-774.67</td>\n      <td>0</td>\n      <td>548565.23</td>\n      <td>-91434.77</td>\n    </tr>\n  </tbody>\n</table>\n<p>64 rows × 7 columns</p>\n</div>"
     },
     "metadata": {},
     "execution_count": 42
    }
   ],
   "source": [
    "schedule1.iloc[0:64]"
   ]
  },
  {
   "cell_type": "code",
   "execution_count": 43,
   "metadata": {},
   "outputs": [
    {
     "output_type": "execute_result",
     "data": {
      "text/plain": [
       "       Payment_Date  Payment  Principal  Interest  Addl_Principal  \\\n",
       "Period                                                              \n",
       "1        2021-04-01 -2926.98   -1078.57  -1848.41               0   \n",
       "2        2021-05-01 -2926.98   -1082.16  -1844.82               0   \n",
       "3        2021-06-01 -2926.98   -1085.77  -1841.21               0   \n",
       "4        2021-07-01 -2926.98   -1089.39  -1837.59               0   \n",
       "5        2021-08-01 -2926.98   -1093.02  -1833.96               0   \n",
       "...             ...      ...        ...       ...             ...   \n",
       "58       2026-01-01 -2926.98   -1303.85  -1623.14               0   \n",
       "59       2026-02-01 -2926.98   -1308.19  -1618.79               0   \n",
       "60       2026-03-01 -2926.98   -1312.55  -1614.43               0   \n",
       "61       2026-04-01 -2926.98   -1316.93  -1610.05               0   \n",
       "62       2026-05-01 -2926.98   -1321.32  -1605.66               0   \n",
       "\n",
       "        Curr_Balance  Cumulative_Principal  \n",
       "Period                                      \n",
       "1          553445.76              -1078.57  \n",
       "2          552363.60              -2160.73  \n",
       "3          551277.83              -3246.50  \n",
       "4          550188.44              -4335.89  \n",
       "5          549095.42              -5428.91  \n",
       "...              ...                   ...  \n",
       "58         485637.02             -68887.31  \n",
       "59         484328.83             -70195.50  \n",
       "60         483016.28             -71508.05  \n",
       "61         481699.35             -72824.98  \n",
       "62         480378.03             -74146.30  \n",
       "\n",
       "[62 rows x 7 columns]"
      ],
      "text/html": "<div>\n<style scoped>\n    .dataframe tbody tr th:only-of-type {\n        vertical-align: middle;\n    }\n\n    .dataframe tbody tr th {\n        vertical-align: top;\n    }\n\n    .dataframe thead th {\n        text-align: right;\n    }\n</style>\n<table border=\"1\" class=\"dataframe\">\n  <thead>\n    <tr style=\"text-align: right;\">\n      <th></th>\n      <th>Payment_Date</th>\n      <th>Payment</th>\n      <th>Principal</th>\n      <th>Interest</th>\n      <th>Addl_Principal</th>\n      <th>Curr_Balance</th>\n      <th>Cumulative_Principal</th>\n    </tr>\n    <tr>\n      <th>Period</th>\n      <th></th>\n      <th></th>\n      <th></th>\n      <th></th>\n      <th></th>\n      <th></th>\n      <th></th>\n    </tr>\n  </thead>\n  <tbody>\n    <tr>\n      <th>1</th>\n      <td>2021-04-01</td>\n      <td>-2926.98</td>\n      <td>-1078.57</td>\n      <td>-1848.41</td>\n      <td>0</td>\n      <td>553445.76</td>\n      <td>-1078.57</td>\n    </tr>\n    <tr>\n      <th>2</th>\n      <td>2021-05-01</td>\n      <td>-2926.98</td>\n      <td>-1082.16</td>\n      <td>-1844.82</td>\n      <td>0</td>\n      <td>552363.60</td>\n      <td>-2160.73</td>\n    </tr>\n    <tr>\n      <th>3</th>\n      <td>2021-06-01</td>\n      <td>-2926.98</td>\n      <td>-1085.77</td>\n      <td>-1841.21</td>\n      <td>0</td>\n      <td>551277.83</td>\n      <td>-3246.50</td>\n    </tr>\n    <tr>\n      <th>4</th>\n      <td>2021-07-01</td>\n      <td>-2926.98</td>\n      <td>-1089.39</td>\n      <td>-1837.59</td>\n      <td>0</td>\n      <td>550188.44</td>\n      <td>-4335.89</td>\n    </tr>\n    <tr>\n      <th>5</th>\n      <td>2021-08-01</td>\n      <td>-2926.98</td>\n      <td>-1093.02</td>\n      <td>-1833.96</td>\n      <td>0</td>\n      <td>549095.42</td>\n      <td>-5428.91</td>\n    </tr>\n    <tr>\n      <th>...</th>\n      <td>...</td>\n      <td>...</td>\n      <td>...</td>\n      <td>...</td>\n      <td>...</td>\n      <td>...</td>\n      <td>...</td>\n    </tr>\n    <tr>\n      <th>58</th>\n      <td>2026-01-01</td>\n      <td>-2926.98</td>\n      <td>-1303.85</td>\n      <td>-1623.14</td>\n      <td>0</td>\n      <td>485637.02</td>\n      <td>-68887.31</td>\n    </tr>\n    <tr>\n      <th>59</th>\n      <td>2026-02-01</td>\n      <td>-2926.98</td>\n      <td>-1308.19</td>\n      <td>-1618.79</td>\n      <td>0</td>\n      <td>484328.83</td>\n      <td>-70195.50</td>\n    </tr>\n    <tr>\n      <th>60</th>\n      <td>2026-03-01</td>\n      <td>-2926.98</td>\n      <td>-1312.55</td>\n      <td>-1614.43</td>\n      <td>0</td>\n      <td>483016.28</td>\n      <td>-71508.05</td>\n    </tr>\n    <tr>\n      <th>61</th>\n      <td>2026-04-01</td>\n      <td>-2926.98</td>\n      <td>-1316.93</td>\n      <td>-1610.05</td>\n      <td>0</td>\n      <td>481699.35</td>\n      <td>-72824.98</td>\n    </tr>\n    <tr>\n      <th>62</th>\n      <td>2026-05-01</td>\n      <td>-2926.98</td>\n      <td>-1321.32</td>\n      <td>-1605.66</td>\n      <td>0</td>\n      <td>480378.03</td>\n      <td>-74146.30</td>\n    </tr>\n  </tbody>\n</table>\n<p>62 rows × 7 columns</p>\n</div>"
     },
     "metadata": {},
     "execution_count": 43
    }
   ],
   "source": [
    "schedule2.iloc[0:62]"
   ]
  },
  {
   "cell_type": "code",
   "execution_count": null,
   "metadata": {},
   "outputs": [],
   "source": []
  }
 ]
}