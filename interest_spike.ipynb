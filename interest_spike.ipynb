{
 "metadata": {
  "language_info": {
   "codemirror_mode": {
    "name": "ipython",
    "version": 3
   },
   "file_extension": ".py",
   "mimetype": "text/x-python",
   "name": "python",
   "nbconvert_exporter": "python",
   "pygments_lexer": "ipython3",
   "version": "3.8.3-final"
  },
  "orig_nbformat": 2,
  "kernelspec": {
   "name": "python38332bit8b07637a70ff4edea6aa6bcbd1fc18e9",
   "display_name": "Python 3.8.3 32-bit",
   "language": "python"
  }
 },
 "nbformat": 4,
 "nbformat_minor": 2,
 "cells": [
  {
   "cell_type": "code",
   "execution_count": 9,
   "metadata": {},
   "outputs": [],
   "source": [
    "import funcs as f"
   ]
  },
  {
   "cell_type": "code",
   "execution_count": 27,
   "metadata": {},
   "outputs": [],
   "source": [
    "schedule1, stats1, total_monthly1 = f.amortization_table(\n",
    "    interest_rate = 1.54, \n",
    "    years = 30, \n",
    "    principal= 650000,\n",
    "    yearly_tax= 3846, \n",
    "    maintenance_fee=85, \n",
    "    addl_principal=0)"
   ]
  },
  {
   "cell_type": "code",
   "execution_count": 28,
   "metadata": {},
   "outputs": [],
   "source": [
    "schedule11, stats11, total_monthly11 = f.amortization_table(\n",
    "    interest_rate = 3, \n",
    "    years = 27, \n",
    "    principal = schedule1.loc[36, 'Curr_Balance'], \n",
    "    yearly_tax= 3846, \n",
    "    maintenance_fee=85, \n",
    "    addl_principal=0)"
   ]
  },
  {
   "cell_type": "code",
   "execution_count": 29,
   "metadata": {},
   "outputs": [
    {
     "output_type": "execute_result",
     "data": {
      "text/plain": [
       "       Payment_Date  Payment  Principal  Interest  Addl_Principal  \\\n",
       "Period                                                              \n",
       "35       2024-02-01 -2255.78   -1484.97   -770.81               0   \n",
       "36       2024-03-01 -2255.78   -1486.88   -768.90               0   \n",
       "37       2024-04-01 -2255.78   -1488.79   -766.99               0   \n",
       "\n",
       "        Curr_Balance  Cumulative_Principal  \n",
       "Period                                      \n",
       "35         599142.60             -50857.40  \n",
       "36         597655.72             -52344.28  \n",
       "37         596166.93             -53833.07  "
      ],
      "text/html": "<div>\n<style scoped>\n    .dataframe tbody tr th:only-of-type {\n        vertical-align: middle;\n    }\n\n    .dataframe tbody tr th {\n        vertical-align: top;\n    }\n\n    .dataframe thead th {\n        text-align: right;\n    }\n</style>\n<table border=\"1\" class=\"dataframe\">\n  <thead>\n    <tr style=\"text-align: right;\">\n      <th></th>\n      <th>Payment_Date</th>\n      <th>Payment</th>\n      <th>Principal</th>\n      <th>Interest</th>\n      <th>Addl_Principal</th>\n      <th>Curr_Balance</th>\n      <th>Cumulative_Principal</th>\n    </tr>\n    <tr>\n      <th>Period</th>\n      <th></th>\n      <th></th>\n      <th></th>\n      <th></th>\n      <th></th>\n      <th></th>\n      <th></th>\n    </tr>\n  </thead>\n  <tbody>\n    <tr>\n      <th>35</th>\n      <td>2024-02-01</td>\n      <td>-2255.78</td>\n      <td>-1484.97</td>\n      <td>-770.81</td>\n      <td>0</td>\n      <td>599142.60</td>\n      <td>-50857.40</td>\n    </tr>\n    <tr>\n      <th>36</th>\n      <td>2024-03-01</td>\n      <td>-2255.78</td>\n      <td>-1486.88</td>\n      <td>-768.90</td>\n      <td>0</td>\n      <td>597655.72</td>\n      <td>-52344.28</td>\n    </tr>\n    <tr>\n      <th>37</th>\n      <td>2024-04-01</td>\n      <td>-2255.78</td>\n      <td>-1488.79</td>\n      <td>-766.99</td>\n      <td>0</td>\n      <td>596166.93</td>\n      <td>-53833.07</td>\n    </tr>\n  </tbody>\n</table>\n</div>"
     },
     "metadata": {},
     "execution_count": 29
    }
   ],
   "source": [
    "schedule1.iloc[34:37]"
   ]
  },
  {
   "cell_type": "code",
   "execution_count": 30,
   "metadata": {},
   "outputs": [
    {
     "output_type": "execute_result",
     "data": {
      "text/plain": [
       "       Payment_Date  Payment  Principal  Interest  Addl_Principal  \\\n",
       "Period                                                              \n",
       "84       2028-03-01 -2693.64   -1475.72  -1217.92               0   \n",
       "85       2028-04-01 -2693.64   -1479.41  -1214.23               0   \n",
       "\n",
       "        Curr_Balance  Cumulative_Principal  \n",
       "Period                                      \n",
       "84         485692.21            -111963.51  \n",
       "85         484212.80            -113442.92  "
      ],
      "text/html": "<div>\n<style scoped>\n    .dataframe tbody tr th:only-of-type {\n        vertical-align: middle;\n    }\n\n    .dataframe tbody tr th {\n        vertical-align: top;\n    }\n\n    .dataframe thead th {\n        text-align: right;\n    }\n</style>\n<table border=\"1\" class=\"dataframe\">\n  <thead>\n    <tr style=\"text-align: right;\">\n      <th></th>\n      <th>Payment_Date</th>\n      <th>Payment</th>\n      <th>Principal</th>\n      <th>Interest</th>\n      <th>Addl_Principal</th>\n      <th>Curr_Balance</th>\n      <th>Cumulative_Principal</th>\n    </tr>\n    <tr>\n      <th>Period</th>\n      <th></th>\n      <th></th>\n      <th></th>\n      <th></th>\n      <th></th>\n      <th></th>\n      <th></th>\n    </tr>\n  </thead>\n  <tbody>\n    <tr>\n      <th>84</th>\n      <td>2028-03-01</td>\n      <td>-2693.64</td>\n      <td>-1475.72</td>\n      <td>-1217.92</td>\n      <td>0</td>\n      <td>485692.21</td>\n      <td>-111963.51</td>\n    </tr>\n    <tr>\n      <th>85</th>\n      <td>2028-04-01</td>\n      <td>-2693.64</td>\n      <td>-1479.41</td>\n      <td>-1214.23</td>\n      <td>0</td>\n      <td>484212.80</td>\n      <td>-113442.92</td>\n    </tr>\n  </tbody>\n</table>\n</div>"
     },
     "metadata": {},
     "execution_count": 30
    }
   ],
   "source": [
    "schedule11.iloc[83:85]"
   ]
  },
  {
   "cell_type": "code",
   "execution_count": 26,
   "metadata": {},
   "outputs": [
    {
     "output_type": "execute_result",
     "data": {
      "text/plain": [
       "-200571.01"
      ]
     },
     "metadata": {},
     "execution_count": 26
    }
   ],
   "source": [
    "schedule1.loc[60, 'Cumulative_Principal'] + schedule11.loc[84, 'Cumulative_Principal']"
   ]
  },
  {
   "cell_type": "code",
   "execution_count": 11,
   "metadata": {},
   "outputs": [],
   "source": [
    "schedule2, stats2, total_monthly2 = f.amortization_table(\n",
    "    interest_rate = 1.54, \n",
    "    years = 30, \n",
    "    principal = 850000-210000,  # schedule1.loc[60, 'Curr_Balance'], \n",
    "    yearly_tax= 3846, \n",
    "    maintenance_fee=85, \n",
    "    addl_principal=0)"
   ]
  },
  {
   "cell_type": "code",
   "execution_count": null,
   "metadata": {},
   "outputs": [],
   "source": []
  },
  {
   "cell_type": "code",
   "execution_count": null,
   "metadata": {},
   "outputs": [],
   "source": []
  },
  {
   "cell_type": "code",
   "execution_count": 12,
   "metadata": {},
   "outputs": [
    {
     "output_type": "stream",
     "name": "stdout",
     "text": [
      "-2799.97\n"
     ]
    }
   ],
   "source": [
    "schedule1['Cum_Interest'] = schedule1['Interest'].cumsum()\n",
    "schedule2['Cum_Interest'] = schedule2['Interest'].cumsum()\n",
    "print(total_monthly1)\n",
    "total_monthly1 = total_monthly1 - 300\n",
    "total_monthly2 = total_monthly2 - 300"
   ]
  },
  {
   "cell_type": "code",
   "execution_count": 18,
   "metadata": {},
   "outputs": [
    {
     "output_type": "execute_result",
     "data": {
      "text/plain": [
       "-6242.399999999987"
      ]
     },
     "metadata": {},
     "execution_count": 18
    }
   ],
   "source": [
    "(total_monthly1 - total_monthly2)*36"
   ]
  },
  {
   "cell_type": "code",
   "execution_count": 14,
   "metadata": {},
   "outputs": [
    {
     "output_type": "execute_result",
     "data": {
      "text/plain": [
       "       Payment_Date  Payment  Principal  Interest  Addl_Principal  \\\n",
       "Period                                                              \n",
       "36       2024-03-01 -2394.47   -1360.18  -1034.30               0   \n",
       "37       2024-04-01 -2394.47   -1362.54  -1031.93               0   \n",
       "38       2024-05-01 -2394.47   -1364.92  -1029.56               0   \n",
       "39       2024-06-01 -2394.47   -1367.29  -1027.18               0   \n",
       "40       2024-07-01 -2394.47   -1369.68  -1024.80               0   \n",
       "41       2024-08-01 -2394.47   -1372.06  -1022.41               0   \n",
       "42       2024-09-01 -2394.47   -1374.45  -1020.02               0   \n",
       "43       2024-10-01 -2394.47   -1376.85  -1017.63               0   \n",
       "44       2024-11-01 -2394.47   -1379.24  -1015.23               0   \n",
       "45       2024-12-01 -2394.47   -1381.65  -1012.83               0   \n",
       "46       2025-01-01 -2394.47   -1384.05  -1010.42               0   \n",
       "47       2025-02-01 -2394.47   -1386.46  -1008.01               0   \n",
       "48       2025-03-01 -2394.47   -1388.88  -1005.60               0   \n",
       "49       2025-04-01 -2394.47   -1391.30  -1003.18               0   \n",
       "50       2025-05-01 -2394.47   -1393.72  -1000.75               0   \n",
       "51       2025-06-01 -2394.47   -1396.15   -998.33               0   \n",
       "52       2025-07-01 -2394.47   -1398.58   -995.89               0   \n",
       "53       2025-08-01 -2394.47   -1401.01   -993.46               0   \n",
       "54       2025-09-01 -2394.47   -1403.45   -991.02               0   \n",
       "55       2025-10-01 -2394.47   -1405.90   -988.57               0   \n",
       "56       2025-11-01 -2394.47   -1408.35   -986.13               0   \n",
       "57       2025-12-01 -2394.47   -1410.80   -983.67               0   \n",
       "58       2026-01-01 -2394.47   -1413.26   -981.22               0   \n",
       "59       2026-02-01 -2394.47   -1415.72   -978.75               0   \n",
       "60       2026-03-01 -2394.47   -1418.18   -976.29               0   \n",
       "61       2026-04-01 -2394.47   -1420.65   -973.82               0   \n",
       "62       2026-05-01 -2394.47   -1423.13   -971.34               0   \n",
       "63       2026-06-01 -2394.47   -1425.61   -968.87               0   \n",
       "\n",
       "        Curr_Balance  Cumulative_Principal  Cum_Interest  \n",
       "Period                                                    \n",
       "36         592494.58             -47505.42     -38695.59  \n",
       "37         591132.04             -48867.96     -39727.52  \n",
       "38         589767.12             -50232.88     -40757.08  \n",
       "39         588399.83             -51600.17     -41784.26  \n",
       "40         587030.15             -52969.85     -42809.06  \n",
       "41         585658.09             -54341.91     -43831.47  \n",
       "42         584283.64             -55716.36     -44851.49  \n",
       "43         582906.79             -57093.21     -45869.12  \n",
       "44         581527.55             -58472.45     -46884.35  \n",
       "45         580145.90             -59854.10     -47897.18  \n",
       "46         578761.85             -61238.15     -48907.60  \n",
       "47         577375.39             -62624.61     -49915.61  \n",
       "48         575986.51             -64013.49     -50921.21  \n",
       "49         574595.21             -65404.79     -51924.39  \n",
       "50         573201.49             -66798.51     -52925.14  \n",
       "51         571805.34             -68194.66     -53923.47  \n",
       "52         570406.76             -69593.24     -54919.36  \n",
       "53         569005.75             -70994.25     -55912.82  \n",
       "54         567602.30             -72397.70     -56903.84  \n",
       "55         566196.40             -73803.60     -57892.41  \n",
       "56         564788.05             -75211.95     -58878.54  \n",
       "57         563377.25             -76622.75     -59862.21  \n",
       "58         561963.99             -78036.01     -60843.43  \n",
       "59         560548.27             -79451.73     -61822.18  \n",
       "60         559130.09             -80869.91     -62798.47  \n",
       "61         557709.44             -82290.56     -63772.29  \n",
       "62         556286.31             -83713.69     -64743.63  \n",
       "63         554860.70             -85139.30     -65712.50  "
      ],
      "text/html": "<div>\n<style scoped>\n    .dataframe tbody tr th:only-of-type {\n        vertical-align: middle;\n    }\n\n    .dataframe tbody tr th {\n        vertical-align: top;\n    }\n\n    .dataframe thead th {\n        text-align: right;\n    }\n</style>\n<table border=\"1\" class=\"dataframe\">\n  <thead>\n    <tr style=\"text-align: right;\">\n      <th></th>\n      <th>Payment_Date</th>\n      <th>Payment</th>\n      <th>Principal</th>\n      <th>Interest</th>\n      <th>Addl_Principal</th>\n      <th>Curr_Balance</th>\n      <th>Cumulative_Principal</th>\n      <th>Cum_Interest</th>\n    </tr>\n    <tr>\n      <th>Period</th>\n      <th></th>\n      <th></th>\n      <th></th>\n      <th></th>\n      <th></th>\n      <th></th>\n      <th></th>\n      <th></th>\n    </tr>\n  </thead>\n  <tbody>\n    <tr>\n      <th>36</th>\n      <td>2024-03-01</td>\n      <td>-2394.47</td>\n      <td>-1360.18</td>\n      <td>-1034.30</td>\n      <td>0</td>\n      <td>592494.58</td>\n      <td>-47505.42</td>\n      <td>-38695.59</td>\n    </tr>\n    <tr>\n      <th>37</th>\n      <td>2024-04-01</td>\n      <td>-2394.47</td>\n      <td>-1362.54</td>\n      <td>-1031.93</td>\n      <td>0</td>\n      <td>591132.04</td>\n      <td>-48867.96</td>\n      <td>-39727.52</td>\n    </tr>\n    <tr>\n      <th>38</th>\n      <td>2024-05-01</td>\n      <td>-2394.47</td>\n      <td>-1364.92</td>\n      <td>-1029.56</td>\n      <td>0</td>\n      <td>589767.12</td>\n      <td>-50232.88</td>\n      <td>-40757.08</td>\n    </tr>\n    <tr>\n      <th>39</th>\n      <td>2024-06-01</td>\n      <td>-2394.47</td>\n      <td>-1367.29</td>\n      <td>-1027.18</td>\n      <td>0</td>\n      <td>588399.83</td>\n      <td>-51600.17</td>\n      <td>-41784.26</td>\n    </tr>\n    <tr>\n      <th>40</th>\n      <td>2024-07-01</td>\n      <td>-2394.47</td>\n      <td>-1369.68</td>\n      <td>-1024.80</td>\n      <td>0</td>\n      <td>587030.15</td>\n      <td>-52969.85</td>\n      <td>-42809.06</td>\n    </tr>\n    <tr>\n      <th>41</th>\n      <td>2024-08-01</td>\n      <td>-2394.47</td>\n      <td>-1372.06</td>\n      <td>-1022.41</td>\n      <td>0</td>\n      <td>585658.09</td>\n      <td>-54341.91</td>\n      <td>-43831.47</td>\n    </tr>\n    <tr>\n      <th>42</th>\n      <td>2024-09-01</td>\n      <td>-2394.47</td>\n      <td>-1374.45</td>\n      <td>-1020.02</td>\n      <td>0</td>\n      <td>584283.64</td>\n      <td>-55716.36</td>\n      <td>-44851.49</td>\n    </tr>\n    <tr>\n      <th>43</th>\n      <td>2024-10-01</td>\n      <td>-2394.47</td>\n      <td>-1376.85</td>\n      <td>-1017.63</td>\n      <td>0</td>\n      <td>582906.79</td>\n      <td>-57093.21</td>\n      <td>-45869.12</td>\n    </tr>\n    <tr>\n      <th>44</th>\n      <td>2024-11-01</td>\n      <td>-2394.47</td>\n      <td>-1379.24</td>\n      <td>-1015.23</td>\n      <td>0</td>\n      <td>581527.55</td>\n      <td>-58472.45</td>\n      <td>-46884.35</td>\n    </tr>\n    <tr>\n      <th>45</th>\n      <td>2024-12-01</td>\n      <td>-2394.47</td>\n      <td>-1381.65</td>\n      <td>-1012.83</td>\n      <td>0</td>\n      <td>580145.90</td>\n      <td>-59854.10</td>\n      <td>-47897.18</td>\n    </tr>\n    <tr>\n      <th>46</th>\n      <td>2025-01-01</td>\n      <td>-2394.47</td>\n      <td>-1384.05</td>\n      <td>-1010.42</td>\n      <td>0</td>\n      <td>578761.85</td>\n      <td>-61238.15</td>\n      <td>-48907.60</td>\n    </tr>\n    <tr>\n      <th>47</th>\n      <td>2025-02-01</td>\n      <td>-2394.47</td>\n      <td>-1386.46</td>\n      <td>-1008.01</td>\n      <td>0</td>\n      <td>577375.39</td>\n      <td>-62624.61</td>\n      <td>-49915.61</td>\n    </tr>\n    <tr>\n      <th>48</th>\n      <td>2025-03-01</td>\n      <td>-2394.47</td>\n      <td>-1388.88</td>\n      <td>-1005.60</td>\n      <td>0</td>\n      <td>575986.51</td>\n      <td>-64013.49</td>\n      <td>-50921.21</td>\n    </tr>\n    <tr>\n      <th>49</th>\n      <td>2025-04-01</td>\n      <td>-2394.47</td>\n      <td>-1391.30</td>\n      <td>-1003.18</td>\n      <td>0</td>\n      <td>574595.21</td>\n      <td>-65404.79</td>\n      <td>-51924.39</td>\n    </tr>\n    <tr>\n      <th>50</th>\n      <td>2025-05-01</td>\n      <td>-2394.47</td>\n      <td>-1393.72</td>\n      <td>-1000.75</td>\n      <td>0</td>\n      <td>573201.49</td>\n      <td>-66798.51</td>\n      <td>-52925.14</td>\n    </tr>\n    <tr>\n      <th>51</th>\n      <td>2025-06-01</td>\n      <td>-2394.47</td>\n      <td>-1396.15</td>\n      <td>-998.33</td>\n      <td>0</td>\n      <td>571805.34</td>\n      <td>-68194.66</td>\n      <td>-53923.47</td>\n    </tr>\n    <tr>\n      <th>52</th>\n      <td>2025-07-01</td>\n      <td>-2394.47</td>\n      <td>-1398.58</td>\n      <td>-995.89</td>\n      <td>0</td>\n      <td>570406.76</td>\n      <td>-69593.24</td>\n      <td>-54919.36</td>\n    </tr>\n    <tr>\n      <th>53</th>\n      <td>2025-08-01</td>\n      <td>-2394.47</td>\n      <td>-1401.01</td>\n      <td>-993.46</td>\n      <td>0</td>\n      <td>569005.75</td>\n      <td>-70994.25</td>\n      <td>-55912.82</td>\n    </tr>\n    <tr>\n      <th>54</th>\n      <td>2025-09-01</td>\n      <td>-2394.47</td>\n      <td>-1403.45</td>\n      <td>-991.02</td>\n      <td>0</td>\n      <td>567602.30</td>\n      <td>-72397.70</td>\n      <td>-56903.84</td>\n    </tr>\n    <tr>\n      <th>55</th>\n      <td>2025-10-01</td>\n      <td>-2394.47</td>\n      <td>-1405.90</td>\n      <td>-988.57</td>\n      <td>0</td>\n      <td>566196.40</td>\n      <td>-73803.60</td>\n      <td>-57892.41</td>\n    </tr>\n    <tr>\n      <th>56</th>\n      <td>2025-11-01</td>\n      <td>-2394.47</td>\n      <td>-1408.35</td>\n      <td>-986.13</td>\n      <td>0</td>\n      <td>564788.05</td>\n      <td>-75211.95</td>\n      <td>-58878.54</td>\n    </tr>\n    <tr>\n      <th>57</th>\n      <td>2025-12-01</td>\n      <td>-2394.47</td>\n      <td>-1410.80</td>\n      <td>-983.67</td>\n      <td>0</td>\n      <td>563377.25</td>\n      <td>-76622.75</td>\n      <td>-59862.21</td>\n    </tr>\n    <tr>\n      <th>58</th>\n      <td>2026-01-01</td>\n      <td>-2394.47</td>\n      <td>-1413.26</td>\n      <td>-981.22</td>\n      <td>0</td>\n      <td>561963.99</td>\n      <td>-78036.01</td>\n      <td>-60843.43</td>\n    </tr>\n    <tr>\n      <th>59</th>\n      <td>2026-02-01</td>\n      <td>-2394.47</td>\n      <td>-1415.72</td>\n      <td>-978.75</td>\n      <td>0</td>\n      <td>560548.27</td>\n      <td>-79451.73</td>\n      <td>-61822.18</td>\n    </tr>\n    <tr>\n      <th>60</th>\n      <td>2026-03-01</td>\n      <td>-2394.47</td>\n      <td>-1418.18</td>\n      <td>-976.29</td>\n      <td>0</td>\n      <td>559130.09</td>\n      <td>-80869.91</td>\n      <td>-62798.47</td>\n    </tr>\n    <tr>\n      <th>61</th>\n      <td>2026-04-01</td>\n      <td>-2394.47</td>\n      <td>-1420.65</td>\n      <td>-973.82</td>\n      <td>0</td>\n      <td>557709.44</td>\n      <td>-82290.56</td>\n      <td>-63772.29</td>\n    </tr>\n    <tr>\n      <th>62</th>\n      <td>2026-05-01</td>\n      <td>-2394.47</td>\n      <td>-1423.13</td>\n      <td>-971.34</td>\n      <td>0</td>\n      <td>556286.31</td>\n      <td>-83713.69</td>\n      <td>-64743.63</td>\n    </tr>\n    <tr>\n      <th>63</th>\n      <td>2026-06-01</td>\n      <td>-2394.47</td>\n      <td>-1425.61</td>\n      <td>-968.87</td>\n      <td>0</td>\n      <td>554860.70</td>\n      <td>-85139.30</td>\n      <td>-65712.50</td>\n    </tr>\n  </tbody>\n</table>\n</div>"
     },
     "metadata": {},
     "execution_count": 14
    }
   ],
   "source": [
    "schedule1.iloc[35:63]"
   ]
  },
  {
   "cell_type": "code",
   "execution_count": 15,
   "metadata": {},
   "outputs": [
    {
     "output_type": "execute_result",
     "data": {
      "text/plain": [
       "30.0"
      ]
     },
     "metadata": {},
     "execution_count": 15
    }
   ],
   "source": [
    "schedule1.shape[0]/12"
   ]
  },
  {
   "cell_type": "code",
   "execution_count": 16,
   "metadata": {},
   "outputs": [
    {
     "output_type": "execute_result",
     "data": {
      "text/plain": [
       "       Payment_Date  Payment  Principal  Interest  Addl_Principal  \\\n",
       "Period                                                              \n",
       "36       2024-03-01 -2221.07   -1464.00   -757.07               0   \n",
       "37       2024-04-01 -2221.07   -1465.88   -755.19               0   \n",
       "38       2024-05-01 -2221.07   -1467.76   -753.31               0   \n",
       "39       2024-06-01 -2221.07   -1469.65   -751.43               0   \n",
       "40       2024-07-01 -2221.07   -1471.53   -749.54               0   \n",
       "41       2024-08-01 -2221.07   -1473.42   -747.65               0   \n",
       "42       2024-09-01 -2221.07   -1475.31   -745.76               0   \n",
       "43       2024-10-01 -2221.07   -1477.21   -743.87               0   \n",
       "44       2024-11-01 -2221.07   -1479.10   -741.97               0   \n",
       "45       2024-12-01 -2221.07   -1481.00   -740.07               0   \n",
       "46       2025-01-01 -2221.07   -1482.90   -738.17               0   \n",
       "47       2025-02-01 -2221.07   -1484.80   -736.27               0   \n",
       "48       2025-03-01 -2221.07   -1486.71   -734.36               0   \n",
       "49       2025-04-01 -2221.07   -1488.62   -732.46               0   \n",
       "50       2025-05-01 -2221.07   -1490.53   -730.55               0   \n",
       "51       2025-06-01 -2221.07   -1492.44   -728.63               0   \n",
       "52       2025-07-01 -2221.07   -1494.36   -726.72               0   \n",
       "53       2025-08-01 -2221.07   -1496.27   -724.80               0   \n",
       "54       2025-09-01 -2221.07   -1498.19   -722.88               0   \n",
       "55       2025-10-01 -2221.07   -1500.12   -720.96               0   \n",
       "56       2025-11-01 -2221.07   -1502.04   -719.03               0   \n",
       "57       2025-12-01 -2221.07   -1503.97   -717.11               0   \n",
       "58       2026-01-01 -2221.07   -1505.90   -715.17               0   \n",
       "59       2026-02-01 -2221.07   -1507.83   -713.24               0   \n",
       "60       2026-03-01 -2221.07   -1509.77   -711.31               0   \n",
       "61       2026-04-01 -2221.07   -1511.70   -709.37               0   \n",
       "62       2026-05-01 -2221.07   -1513.64   -707.43               0   \n",
       "63       2026-06-01 -2221.07   -1515.59   -705.49               0   \n",
       "\n",
       "        Curr_Balance  Cumulative_Principal  Cum_Interest  \n",
       "Period                                                    \n",
       "36         588460.99             -51539.01     -28419.66  \n",
       "37         586995.11             -53004.89     -29174.85  \n",
       "38         585527.35             -54472.65     -29928.16  \n",
       "39         584057.70             -55942.30     -30679.59  \n",
       "40         582586.17             -57413.83     -31429.13  \n",
       "41         581112.75             -58887.25     -32176.78  \n",
       "42         579637.44             -60362.56     -32922.54  \n",
       "43         578160.23             -61839.77     -33666.41  \n",
       "44         576681.13             -63318.87     -34408.38  \n",
       "45         575200.13             -64799.87     -35148.45  \n",
       "46         573717.23             -66282.77     -35886.62  \n",
       "47         572232.43             -67767.57     -36622.89  \n",
       "48         570745.72             -69254.28     -37357.25  \n",
       "49         569257.10             -70742.90     -38089.71  \n",
       "50         567766.57             -72233.43     -38820.26  \n",
       "51         566274.13             -73725.87     -39548.89  \n",
       "52         564779.77             -75220.23     -40275.61  \n",
       "53         563283.50             -76716.50     -41000.41  \n",
       "54         561785.31             -78214.69     -41723.29  \n",
       "55         560285.19             -79714.81     -42444.25  \n",
       "56         558783.15             -81216.85     -43163.28  \n",
       "57         557279.18             -82720.82     -43880.39  \n",
       "58         555773.28             -84226.72     -44595.56  \n",
       "59         554265.45             -85734.55     -45308.80  \n",
       "60         552755.68             -87244.32     -46020.11  \n",
       "61         551243.98             -88756.02     -46729.48  \n",
       "62         549730.34             -90269.66     -47436.91  \n",
       "63         548214.75             -91785.25     -48142.40  "
      ],
      "text/html": "<div>\n<style scoped>\n    .dataframe tbody tr th:only-of-type {\n        vertical-align: middle;\n    }\n\n    .dataframe tbody tr th {\n        vertical-align: top;\n    }\n\n    .dataframe thead th {\n        text-align: right;\n    }\n</style>\n<table border=\"1\" class=\"dataframe\">\n  <thead>\n    <tr style=\"text-align: right;\">\n      <th></th>\n      <th>Payment_Date</th>\n      <th>Payment</th>\n      <th>Principal</th>\n      <th>Interest</th>\n      <th>Addl_Principal</th>\n      <th>Curr_Balance</th>\n      <th>Cumulative_Principal</th>\n      <th>Cum_Interest</th>\n    </tr>\n    <tr>\n      <th>Period</th>\n      <th></th>\n      <th></th>\n      <th></th>\n      <th></th>\n      <th></th>\n      <th></th>\n      <th></th>\n      <th></th>\n    </tr>\n  </thead>\n  <tbody>\n    <tr>\n      <th>36</th>\n      <td>2024-03-01</td>\n      <td>-2221.07</td>\n      <td>-1464.00</td>\n      <td>-757.07</td>\n      <td>0</td>\n      <td>588460.99</td>\n      <td>-51539.01</td>\n      <td>-28419.66</td>\n    </tr>\n    <tr>\n      <th>37</th>\n      <td>2024-04-01</td>\n      <td>-2221.07</td>\n      <td>-1465.88</td>\n      <td>-755.19</td>\n      <td>0</td>\n      <td>586995.11</td>\n      <td>-53004.89</td>\n      <td>-29174.85</td>\n    </tr>\n    <tr>\n      <th>38</th>\n      <td>2024-05-01</td>\n      <td>-2221.07</td>\n      <td>-1467.76</td>\n      <td>-753.31</td>\n      <td>0</td>\n      <td>585527.35</td>\n      <td>-54472.65</td>\n      <td>-29928.16</td>\n    </tr>\n    <tr>\n      <th>39</th>\n      <td>2024-06-01</td>\n      <td>-2221.07</td>\n      <td>-1469.65</td>\n      <td>-751.43</td>\n      <td>0</td>\n      <td>584057.70</td>\n      <td>-55942.30</td>\n      <td>-30679.59</td>\n    </tr>\n    <tr>\n      <th>40</th>\n      <td>2024-07-01</td>\n      <td>-2221.07</td>\n      <td>-1471.53</td>\n      <td>-749.54</td>\n      <td>0</td>\n      <td>582586.17</td>\n      <td>-57413.83</td>\n      <td>-31429.13</td>\n    </tr>\n    <tr>\n      <th>41</th>\n      <td>2024-08-01</td>\n      <td>-2221.07</td>\n      <td>-1473.42</td>\n      <td>-747.65</td>\n      <td>0</td>\n      <td>581112.75</td>\n      <td>-58887.25</td>\n      <td>-32176.78</td>\n    </tr>\n    <tr>\n      <th>42</th>\n      <td>2024-09-01</td>\n      <td>-2221.07</td>\n      <td>-1475.31</td>\n      <td>-745.76</td>\n      <td>0</td>\n      <td>579637.44</td>\n      <td>-60362.56</td>\n      <td>-32922.54</td>\n    </tr>\n    <tr>\n      <th>43</th>\n      <td>2024-10-01</td>\n      <td>-2221.07</td>\n      <td>-1477.21</td>\n      <td>-743.87</td>\n      <td>0</td>\n      <td>578160.23</td>\n      <td>-61839.77</td>\n      <td>-33666.41</td>\n    </tr>\n    <tr>\n      <th>44</th>\n      <td>2024-11-01</td>\n      <td>-2221.07</td>\n      <td>-1479.10</td>\n      <td>-741.97</td>\n      <td>0</td>\n      <td>576681.13</td>\n      <td>-63318.87</td>\n      <td>-34408.38</td>\n    </tr>\n    <tr>\n      <th>45</th>\n      <td>2024-12-01</td>\n      <td>-2221.07</td>\n      <td>-1481.00</td>\n      <td>-740.07</td>\n      <td>0</td>\n      <td>575200.13</td>\n      <td>-64799.87</td>\n      <td>-35148.45</td>\n    </tr>\n    <tr>\n      <th>46</th>\n      <td>2025-01-01</td>\n      <td>-2221.07</td>\n      <td>-1482.90</td>\n      <td>-738.17</td>\n      <td>0</td>\n      <td>573717.23</td>\n      <td>-66282.77</td>\n      <td>-35886.62</td>\n    </tr>\n    <tr>\n      <th>47</th>\n      <td>2025-02-01</td>\n      <td>-2221.07</td>\n      <td>-1484.80</td>\n      <td>-736.27</td>\n      <td>0</td>\n      <td>572232.43</td>\n      <td>-67767.57</td>\n      <td>-36622.89</td>\n    </tr>\n    <tr>\n      <th>48</th>\n      <td>2025-03-01</td>\n      <td>-2221.07</td>\n      <td>-1486.71</td>\n      <td>-734.36</td>\n      <td>0</td>\n      <td>570745.72</td>\n      <td>-69254.28</td>\n      <td>-37357.25</td>\n    </tr>\n    <tr>\n      <th>49</th>\n      <td>2025-04-01</td>\n      <td>-2221.07</td>\n      <td>-1488.62</td>\n      <td>-732.46</td>\n      <td>0</td>\n      <td>569257.10</td>\n      <td>-70742.90</td>\n      <td>-38089.71</td>\n    </tr>\n    <tr>\n      <th>50</th>\n      <td>2025-05-01</td>\n      <td>-2221.07</td>\n      <td>-1490.53</td>\n      <td>-730.55</td>\n      <td>0</td>\n      <td>567766.57</td>\n      <td>-72233.43</td>\n      <td>-38820.26</td>\n    </tr>\n    <tr>\n      <th>51</th>\n      <td>2025-06-01</td>\n      <td>-2221.07</td>\n      <td>-1492.44</td>\n      <td>-728.63</td>\n      <td>0</td>\n      <td>566274.13</td>\n      <td>-73725.87</td>\n      <td>-39548.89</td>\n    </tr>\n    <tr>\n      <th>52</th>\n      <td>2025-07-01</td>\n      <td>-2221.07</td>\n      <td>-1494.36</td>\n      <td>-726.72</td>\n      <td>0</td>\n      <td>564779.77</td>\n      <td>-75220.23</td>\n      <td>-40275.61</td>\n    </tr>\n    <tr>\n      <th>53</th>\n      <td>2025-08-01</td>\n      <td>-2221.07</td>\n      <td>-1496.27</td>\n      <td>-724.80</td>\n      <td>0</td>\n      <td>563283.50</td>\n      <td>-76716.50</td>\n      <td>-41000.41</td>\n    </tr>\n    <tr>\n      <th>54</th>\n      <td>2025-09-01</td>\n      <td>-2221.07</td>\n      <td>-1498.19</td>\n      <td>-722.88</td>\n      <td>0</td>\n      <td>561785.31</td>\n      <td>-78214.69</td>\n      <td>-41723.29</td>\n    </tr>\n    <tr>\n      <th>55</th>\n      <td>2025-10-01</td>\n      <td>-2221.07</td>\n      <td>-1500.12</td>\n      <td>-720.96</td>\n      <td>0</td>\n      <td>560285.19</td>\n      <td>-79714.81</td>\n      <td>-42444.25</td>\n    </tr>\n    <tr>\n      <th>56</th>\n      <td>2025-11-01</td>\n      <td>-2221.07</td>\n      <td>-1502.04</td>\n      <td>-719.03</td>\n      <td>0</td>\n      <td>558783.15</td>\n      <td>-81216.85</td>\n      <td>-43163.28</td>\n    </tr>\n    <tr>\n      <th>57</th>\n      <td>2025-12-01</td>\n      <td>-2221.07</td>\n      <td>-1503.97</td>\n      <td>-717.11</td>\n      <td>0</td>\n      <td>557279.18</td>\n      <td>-82720.82</td>\n      <td>-43880.39</td>\n    </tr>\n    <tr>\n      <th>58</th>\n      <td>2026-01-01</td>\n      <td>-2221.07</td>\n      <td>-1505.90</td>\n      <td>-715.17</td>\n      <td>0</td>\n      <td>555773.28</td>\n      <td>-84226.72</td>\n      <td>-44595.56</td>\n    </tr>\n    <tr>\n      <th>59</th>\n      <td>2026-02-01</td>\n      <td>-2221.07</td>\n      <td>-1507.83</td>\n      <td>-713.24</td>\n      <td>0</td>\n      <td>554265.45</td>\n      <td>-85734.55</td>\n      <td>-45308.80</td>\n    </tr>\n    <tr>\n      <th>60</th>\n      <td>2026-03-01</td>\n      <td>-2221.07</td>\n      <td>-1509.77</td>\n      <td>-711.31</td>\n      <td>0</td>\n      <td>552755.68</td>\n      <td>-87244.32</td>\n      <td>-46020.11</td>\n    </tr>\n    <tr>\n      <th>61</th>\n      <td>2026-04-01</td>\n      <td>-2221.07</td>\n      <td>-1511.70</td>\n      <td>-709.37</td>\n      <td>0</td>\n      <td>551243.98</td>\n      <td>-88756.02</td>\n      <td>-46729.48</td>\n    </tr>\n    <tr>\n      <th>62</th>\n      <td>2026-05-01</td>\n      <td>-2221.07</td>\n      <td>-1513.64</td>\n      <td>-707.43</td>\n      <td>0</td>\n      <td>549730.34</td>\n      <td>-90269.66</td>\n      <td>-47436.91</td>\n    </tr>\n    <tr>\n      <th>63</th>\n      <td>2026-06-01</td>\n      <td>-2221.07</td>\n      <td>-1515.59</td>\n      <td>-705.49</td>\n      <td>0</td>\n      <td>548214.75</td>\n      <td>-91785.25</td>\n      <td>-48142.40</td>\n    </tr>\n  </tbody>\n</table>\n</div>"
     },
     "metadata": {},
     "execution_count": 16
    }
   ],
   "source": [
    "schedule2.iloc[35:63]"
   ]
  },
  {
   "cell_type": "code",
   "execution_count": null,
   "metadata": {},
   "outputs": [],
   "source": []
  },
  {
   "cell_type": "code",
   "execution_count": 15,
   "metadata": {},
   "outputs": [],
   "source": []
  }
 ]
}