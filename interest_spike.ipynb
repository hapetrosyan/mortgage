{
 "metadata": {
  "language_info": {
   "codemirror_mode": {
    "name": "ipython",
    "version": 3
   },
   "file_extension": ".py",
   "mimetype": "text/x-python",
   "name": "python",
   "nbconvert_exporter": "python",
   "pygments_lexer": "ipython3",
   "version": "3.8.3-final"
  },
  "orig_nbformat": 2,
  "kernelspec": {
   "name": "python38332bit8b07637a70ff4edea6aa6bcbd1fc18e9",
   "display_name": "Python 3.8.3 32-bit",
   "language": "python"
  }
 },
 "nbformat": 4,
 "nbformat_minor": 2,
 "cells": [
  {
   "cell_type": "code",
   "execution_count": 240,
   "metadata": {},
   "outputs": [],
   "source": [
    "import funcs as f"
   ]
  },
  {
   "cell_type": "code",
   "execution_count": 241,
   "metadata": {},
   "outputs": [],
   "source": [
    "schedule1, stats1, total_monthly1 = f.amortization_table(\n",
    "    interest_rate = 2.5, \n",
    "    years = 30, \n",
    "    principal= 850000-210000, \n",
    "    yearly_tax= 3846, \n",
    "    maintenance_fee=85, \n",
    "    addl_principal=2500)"
   ]
  },
  {
   "cell_type": "code",
   "execution_count": 242,
   "metadata": {},
   "outputs": [],
   "source": [
    "schedule2, stats2, total_monthly2 = f.amortization_table(\n",
    "    interest_rate = 4, \n",
    "    years = 25, \n",
    "    principal = schedule1.loc[60, 'Curr_Balance'], \n",
    "    yearly_tax= 3846, \n",
    "    maintenance_fee=85, \n",
    "    addl_principal=0)"
   ]
  },
  {
   "cell_type": "code",
   "execution_count": 243,
   "metadata": {},
   "outputs": [
    {
     "output_type": "stream",
     "name": "stdout",
     "text": [
      "-5434.27\n"
     ]
    }
   ],
   "source": [
    "schedule1['Cum_Interest'] = schedule1['Interest'].cumsum()\n",
    "schedule2['Cum_Interest'] = schedule2['Interest'].cumsum()\n",
    "print(total_monthly1)\n",
    "total_monthly1 = total_monthly1 - 300\n",
    "total_monthly2 = total_monthly2 - 300"
   ]
  },
  {
   "cell_type": "code",
   "execution_count": 244,
   "metadata": {},
   "outputs": [
    {
     "output_type": "execute_result",
     "data": {
      "text/plain": [
       "(-5734.27, -2889.07)"
      ]
     },
     "metadata": {},
     "execution_count": 244
    }
   ],
   "source": [
    "total_monthly1, total_monthly2"
   ]
  },
  {
   "cell_type": "code",
   "execution_count": 245,
   "metadata": {},
   "outputs": [
    {
     "output_type": "execute_result",
     "data": {
      "text/plain": [
       "       Payment_Date  Payment  Principal  Interest  Addl_Principal  \\\n",
       "Period                                                              \n",
       "1        2021-04-01 -2528.77   -1195.44  -1333.33           -2500   \n",
       "2        2021-05-01 -2528.77   -1197.93  -1330.84           -2500   \n",
       "3        2021-06-01 -2528.77   -1200.43  -1328.35           -2500   \n",
       "4        2021-07-01 -2528.77   -1202.93  -1325.85           -2500   \n",
       "5        2021-08-01 -2528.77   -1205.43  -1323.34           -2500   \n",
       "...             ...      ...        ...       ...             ...   \n",
       "160      2034-07-01 -2528.77   -1664.33   -864.45           -2500   \n",
       "161      2034-08-01 -2528.77   -1667.79   -860.98           -2500   \n",
       "162      2034-09-01 -2528.77   -1671.27   -857.51           -2500   \n",
       "163      2034-10-01 -2528.77   -1674.75   -854.02           -2500   \n",
       "164      2034-11-01 -1607.42    -756.88   -850.54               0   \n",
       "\n",
       "        Curr_Balance  Cumulative_Principal  Cum_Interest  \n",
       "Period                                                    \n",
       "1          636304.56              -3695.44      -1333.33  \n",
       "2          632606.63              -7393.37      -2664.17  \n",
       "3          628906.20             -11093.80      -3992.52  \n",
       "4          625203.27             -14796.73      -5318.37  \n",
       "5          621497.84             -18502.16      -6641.71  \n",
       "...              ...                   ...           ...  \n",
       "160         13270.69            -626729.31    -177874.58  \n",
       "161          9102.90            -630897.10    -178735.56  \n",
       "162          4931.63            -635068.37    -179593.07  \n",
       "163           756.88            -639243.12    -180447.09  \n",
       "164             0.00            -640000.00    -181297.63  \n",
       "\n",
       "[164 rows x 8 columns]"
      ],
      "text/html": "<div>\n<style scoped>\n    .dataframe tbody tr th:only-of-type {\n        vertical-align: middle;\n    }\n\n    .dataframe tbody tr th {\n        vertical-align: top;\n    }\n\n    .dataframe thead th {\n        text-align: right;\n    }\n</style>\n<table border=\"1\" class=\"dataframe\">\n  <thead>\n    <tr style=\"text-align: right;\">\n      <th></th>\n      <th>Payment_Date</th>\n      <th>Payment</th>\n      <th>Principal</th>\n      <th>Interest</th>\n      <th>Addl_Principal</th>\n      <th>Curr_Balance</th>\n      <th>Cumulative_Principal</th>\n      <th>Cum_Interest</th>\n    </tr>\n    <tr>\n      <th>Period</th>\n      <th></th>\n      <th></th>\n      <th></th>\n      <th></th>\n      <th></th>\n      <th></th>\n      <th></th>\n      <th></th>\n    </tr>\n  </thead>\n  <tbody>\n    <tr>\n      <th>1</th>\n      <td>2021-04-01</td>\n      <td>-2528.77</td>\n      <td>-1195.44</td>\n      <td>-1333.33</td>\n      <td>-2500</td>\n      <td>636304.56</td>\n      <td>-3695.44</td>\n      <td>-1333.33</td>\n    </tr>\n    <tr>\n      <th>2</th>\n      <td>2021-05-01</td>\n      <td>-2528.77</td>\n      <td>-1197.93</td>\n      <td>-1330.84</td>\n      <td>-2500</td>\n      <td>632606.63</td>\n      <td>-7393.37</td>\n      <td>-2664.17</td>\n    </tr>\n    <tr>\n      <th>3</th>\n      <td>2021-06-01</td>\n      <td>-2528.77</td>\n      <td>-1200.43</td>\n      <td>-1328.35</td>\n      <td>-2500</td>\n      <td>628906.20</td>\n      <td>-11093.80</td>\n      <td>-3992.52</td>\n    </tr>\n    <tr>\n      <th>4</th>\n      <td>2021-07-01</td>\n      <td>-2528.77</td>\n      <td>-1202.93</td>\n      <td>-1325.85</td>\n      <td>-2500</td>\n      <td>625203.27</td>\n      <td>-14796.73</td>\n      <td>-5318.37</td>\n    </tr>\n    <tr>\n      <th>5</th>\n      <td>2021-08-01</td>\n      <td>-2528.77</td>\n      <td>-1205.43</td>\n      <td>-1323.34</td>\n      <td>-2500</td>\n      <td>621497.84</td>\n      <td>-18502.16</td>\n      <td>-6641.71</td>\n    </tr>\n    <tr>\n      <th>...</th>\n      <td>...</td>\n      <td>...</td>\n      <td>...</td>\n      <td>...</td>\n      <td>...</td>\n      <td>...</td>\n      <td>...</td>\n      <td>...</td>\n    </tr>\n    <tr>\n      <th>160</th>\n      <td>2034-07-01</td>\n      <td>-2528.77</td>\n      <td>-1664.33</td>\n      <td>-864.45</td>\n      <td>-2500</td>\n      <td>13270.69</td>\n      <td>-626729.31</td>\n      <td>-177874.58</td>\n    </tr>\n    <tr>\n      <th>161</th>\n      <td>2034-08-01</td>\n      <td>-2528.77</td>\n      <td>-1667.79</td>\n      <td>-860.98</td>\n      <td>-2500</td>\n      <td>9102.90</td>\n      <td>-630897.10</td>\n      <td>-178735.56</td>\n    </tr>\n    <tr>\n      <th>162</th>\n      <td>2034-09-01</td>\n      <td>-2528.77</td>\n      <td>-1671.27</td>\n      <td>-857.51</td>\n      <td>-2500</td>\n      <td>4931.63</td>\n      <td>-635068.37</td>\n      <td>-179593.07</td>\n    </tr>\n    <tr>\n      <th>163</th>\n      <td>2034-10-01</td>\n      <td>-2528.77</td>\n      <td>-1674.75</td>\n      <td>-854.02</td>\n      <td>-2500</td>\n      <td>756.88</td>\n      <td>-639243.12</td>\n      <td>-180447.09</td>\n    </tr>\n    <tr>\n      <th>164</th>\n      <td>2034-11-01</td>\n      <td>-1607.42</td>\n      <td>-756.88</td>\n      <td>-850.54</td>\n      <td>0</td>\n      <td>0.00</td>\n      <td>-640000.00</td>\n      <td>-181297.63</td>\n    </tr>\n  </tbody>\n</table>\n<p>164 rows × 8 columns</p>\n</div>"
     },
     "metadata": {},
     "execution_count": 245
    }
   ],
   "source": [
    "schedule1"
   ]
  },
  {
   "cell_type": "code",
   "execution_count": 246,
   "metadata": {},
   "outputs": [
    {
     "output_type": "execute_result",
     "data": {
      "text/plain": [
       "13.666666666666666"
      ]
     },
     "metadata": {},
     "execution_count": 246
    }
   ],
   "source": [
    "schedule1.shape[0]/12"
   ]
  },
  {
   "cell_type": "code",
   "execution_count": 247,
   "metadata": {},
   "outputs": [
    {
     "output_type": "execute_result",
     "data": {
      "text/plain": [
       "       Payment_Date  Payment  Principal  Interest  Addl_Principal  \\\n",
       "Period                                                              \n",
       "1        2021-04-01 -2183.57    -804.63  -1378.94               0   \n",
       "2        2021-05-01 -2183.57    -807.31  -1376.26               0   \n",
       "3        2021-06-01 -2183.57    -810.00  -1373.57               0   \n",
       "4        2021-07-01 -2183.57    -812.70  -1370.87               0   \n",
       "5        2021-08-01 -2183.57    -815.41  -1368.16               0   \n",
       "...             ...      ...        ...       ...             ...   \n",
       "58       2026-01-01 -2183.57    -972.69  -1210.88               0   \n",
       "59       2026-02-01 -2183.57    -975.93  -1207.64               0   \n",
       "60       2026-03-01 -2183.57    -979.18  -1204.39               0   \n",
       "61       2026-04-01 -2183.57    -982.45  -1201.12               0   \n",
       "62       2026-05-01 -2183.57    -985.72  -1197.85               0   \n",
       "\n",
       "        Curr_Balance  Cumulative_Principal  Cum_Interest  \n",
       "Period                                                    \n",
       "1          412877.80               -804.63      -1378.94  \n",
       "2          412070.49              -1611.94      -2755.20  \n",
       "3          411260.49              -2421.94      -4128.77  \n",
       "4          410447.79              -3234.64      -5499.64  \n",
       "5          409632.38              -4050.05      -6867.80  \n",
       "...              ...                   ...           ...  \n",
       "58         362291.59             -51390.84     -75256.12  \n",
       "59         361315.66             -52366.77     -76463.76  \n",
       "60         360336.48             -53345.95     -77668.15  \n",
       "61         359354.03             -54328.40     -78869.27  \n",
       "62         358368.31             -55314.12     -80067.12  \n",
       "\n",
       "[62 rows x 8 columns]"
      ],
      "text/html": "<div>\n<style scoped>\n    .dataframe tbody tr th:only-of-type {\n        vertical-align: middle;\n    }\n\n    .dataframe tbody tr th {\n        vertical-align: top;\n    }\n\n    .dataframe thead th {\n        text-align: right;\n    }\n</style>\n<table border=\"1\" class=\"dataframe\">\n  <thead>\n    <tr style=\"text-align: right;\">\n      <th></th>\n      <th>Payment_Date</th>\n      <th>Payment</th>\n      <th>Principal</th>\n      <th>Interest</th>\n      <th>Addl_Principal</th>\n      <th>Curr_Balance</th>\n      <th>Cumulative_Principal</th>\n      <th>Cum_Interest</th>\n    </tr>\n    <tr>\n      <th>Period</th>\n      <th></th>\n      <th></th>\n      <th></th>\n      <th></th>\n      <th></th>\n      <th></th>\n      <th></th>\n      <th></th>\n    </tr>\n  </thead>\n  <tbody>\n    <tr>\n      <th>1</th>\n      <td>2021-04-01</td>\n      <td>-2183.57</td>\n      <td>-804.63</td>\n      <td>-1378.94</td>\n      <td>0</td>\n      <td>412877.80</td>\n      <td>-804.63</td>\n      <td>-1378.94</td>\n    </tr>\n    <tr>\n      <th>2</th>\n      <td>2021-05-01</td>\n      <td>-2183.57</td>\n      <td>-807.31</td>\n      <td>-1376.26</td>\n      <td>0</td>\n      <td>412070.49</td>\n      <td>-1611.94</td>\n      <td>-2755.20</td>\n    </tr>\n    <tr>\n      <th>3</th>\n      <td>2021-06-01</td>\n      <td>-2183.57</td>\n      <td>-810.00</td>\n      <td>-1373.57</td>\n      <td>0</td>\n      <td>411260.49</td>\n      <td>-2421.94</td>\n      <td>-4128.77</td>\n    </tr>\n    <tr>\n      <th>4</th>\n      <td>2021-07-01</td>\n      <td>-2183.57</td>\n      <td>-812.70</td>\n      <td>-1370.87</td>\n      <td>0</td>\n      <td>410447.79</td>\n      <td>-3234.64</td>\n      <td>-5499.64</td>\n    </tr>\n    <tr>\n      <th>5</th>\n      <td>2021-08-01</td>\n      <td>-2183.57</td>\n      <td>-815.41</td>\n      <td>-1368.16</td>\n      <td>0</td>\n      <td>409632.38</td>\n      <td>-4050.05</td>\n      <td>-6867.80</td>\n    </tr>\n    <tr>\n      <th>...</th>\n      <td>...</td>\n      <td>...</td>\n      <td>...</td>\n      <td>...</td>\n      <td>...</td>\n      <td>...</td>\n      <td>...</td>\n      <td>...</td>\n    </tr>\n    <tr>\n      <th>58</th>\n      <td>2026-01-01</td>\n      <td>-2183.57</td>\n      <td>-972.69</td>\n      <td>-1210.88</td>\n      <td>0</td>\n      <td>362291.59</td>\n      <td>-51390.84</td>\n      <td>-75256.12</td>\n    </tr>\n    <tr>\n      <th>59</th>\n      <td>2026-02-01</td>\n      <td>-2183.57</td>\n      <td>-975.93</td>\n      <td>-1207.64</td>\n      <td>0</td>\n      <td>361315.66</td>\n      <td>-52366.77</td>\n      <td>-76463.76</td>\n    </tr>\n    <tr>\n      <th>60</th>\n      <td>2026-03-01</td>\n      <td>-2183.57</td>\n      <td>-979.18</td>\n      <td>-1204.39</td>\n      <td>0</td>\n      <td>360336.48</td>\n      <td>-53345.95</td>\n      <td>-77668.15</td>\n    </tr>\n    <tr>\n      <th>61</th>\n      <td>2026-04-01</td>\n      <td>-2183.57</td>\n      <td>-982.45</td>\n      <td>-1201.12</td>\n      <td>0</td>\n      <td>359354.03</td>\n      <td>-54328.40</td>\n      <td>-78869.27</td>\n    </tr>\n    <tr>\n      <th>62</th>\n      <td>2026-05-01</td>\n      <td>-2183.57</td>\n      <td>-985.72</td>\n      <td>-1197.85</td>\n      <td>0</td>\n      <td>358368.31</td>\n      <td>-55314.12</td>\n      <td>-80067.12</td>\n    </tr>\n  </tbody>\n</table>\n<p>62 rows × 8 columns</p>\n</div>"
     },
     "metadata": {},
     "execution_count": 247
    }
   ],
   "source": [
    "schedule2.iloc[0:62]"
   ]
  },
  {
   "cell_type": "code",
   "execution_count": null,
   "metadata": {},
   "outputs": [],
   "source": []
  },
  {
   "cell_type": "code",
   "execution_count": 15,
   "metadata": {},
   "outputs": [],
   "source": []
  }
 ]
}